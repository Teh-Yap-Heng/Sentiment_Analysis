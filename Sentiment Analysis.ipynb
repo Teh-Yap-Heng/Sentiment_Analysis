{
 "cells": [
  {
   "cell_type": "code",
   "execution_count": 39,
   "metadata": {},
   "outputs": [
    {
     "data": {
      "text/plain": [
       "'C:\\\\Users\\\\tehya\\\\OneDrive\\\\Desktop\\\\lexicon'"
      ]
     },
     "execution_count": 39,
     "metadata": {},
     "output_type": "execute_result"
    }
   ],
   "source": [
    "import os\n",
    "os.getcwd()\n",
    "os.chdir('lexicon')"
   ]
  },
  {
   "cell_type": "code",
   "execution_count": 48,
   "metadata": {},
   "outputs": [],
   "source": [
    "# defining punctuation stripping function\n",
    "punctuation_chars = [\"'\", '\"', \",\", \".\", \"!\", \":\", \";\", '#', '@', '\\n']\n",
    "\n",
    "def strip_punctuation(word):\n",
    "    for letter in word:\n",
    "        if letter in punctuation_chars:\n",
    "            word = word.replace(letter, '')\n",
    "    return word"
   ]
  },
  {
   "cell_type": "code",
   "execution_count": 49,
   "metadata": {},
   "outputs": [],
   "source": [
    "# lists of positive words and negative words to use\n",
    "# lexicon provided by: https://www.cs.uic.edu/~liub/FBS/sentiment-analysis.html\n",
    "positive_words = []\n",
    "with open(\"positive_words.txt\") as pos_f:\n",
    "    for lin in pos_f:\n",
    "        if lin[0] != ';' and lin[0] != '\\n':\n",
    "            positive_words.append(lin.strip())\n",
    "\n",
    "negative_words = []\n",
    "with open(\"negative_words.txt\") as neg_f:\n",
    "    for lin in neg_f:\n",
    "        if lin[0] != ';' and lin[0] != '\\n':\n",
    "            negative_words.append(lin.strip())"
   ]
  },
  {
   "cell_type": "code",
   "execution_count": 50,
   "metadata": {},
   "outputs": [],
   "source": [
    "# Function to detect positive word or negative word from tweets\n",
    "def get_pos(sent):\n",
    "    ctr = 0\n",
    "    word_lst = sent.split()\n",
    "    for word in word_lst:\n",
    "        p_word = strip_punctuation(word).lower()\n",
    "        if p_word in positive_words:\n",
    "            ctr = ctr + 1\n",
    "    return ctr\n",
    "\n",
    "def get_neg(sent):\n",
    "    ctr = 0\n",
    "    word_lst = sent.split()\n",
    "    for word in word_lst:\n",
    "        n_word = strip_punctuation(word).lower()\n",
    "        if n_word in negative_words:\n",
    "            ctr = ctr + 1\n",
    "    return ctr"
   ]
  },
  {
   "cell_type": "code",
   "execution_count": 51,
   "metadata": {},
   "outputs": [],
   "source": [
    "# pseudo tweets file provided by University of Michigan instructor in Coursera\n",
    "# each line consist of: tweet, retweet count, reply count\n",
    "# net score for each tweet is calculated by getting difference between positive score and negative score\n",
    "with open('project_twitter_data.csv', 'r') as tweet:\n",
    "    tweet.readline()\n",
    "    for line in tweet:\n",
    "        tw = line.split(',')\n",
    "        outfile.write(\"{}, {}, {}, {}, {}\".format(tw[1], strip_punctuation(tw[2]), \n",
    "                                                  get_pos(tw[0]), get_neg(tw[0]), (get_pos(tw[0])-get_neg(tw[0]))))  \n",
    "        outfile.write(\"\\n\")"
   ]
  },
  {
   "cell_type": "code",
   "execution_count": 52,
   "metadata": {},
   "outputs": [
    {
     "data": {
      "text/plain": [
       "1"
      ]
     },
     "execution_count": 52,
     "metadata": {},
     "output_type": "execute_result"
    }
   ],
   "source": [
    "# exporting result\n",
    "outfile = open(\"resulting_data.csv\", \"w\")\n",
    "outfile.write('Number of Retweets, Number of Replies, Positive Score, Negative Score, Net Score')\n",
    "outfile.write('\\n')"
   ]
  },
  {
   "cell_type": "code",
   "execution_count": 53,
   "metadata": {},
   "outputs": [
    {
     "data": {
      "text/plain": [
       "Index(['Number of Retweets', 'Number of Replies', 'Positive Score',\n",
       "       'Negative Score', 'Net Score'],\n",
       "      dtype='object')"
      ]
     },
     "execution_count": 53,
     "metadata": {},
     "output_type": "execute_result"
    }
   ],
   "source": [
    "# generate scatter plot for results\n",
    "import pandas as pd\n",
    "import matplotlib.pyplot as plt\n",
    "df = pd.read_csv(\"resulting_data.csv\")\n",
    "df.columns = df.columns.str.strip()\n",
    "df.columns"
   ]
  },
  {
   "cell_type": "code",
   "execution_count": 54,
   "metadata": {},
   "outputs": [
    {
     "data": {
      "text/plain": [
       "<matplotlib.axes._subplots.AxesSubplot at 0x271df0ba208>"
      ]
     },
     "execution_count": 54,
     "metadata": {},
     "output_type": "execute_result"
    },
    {
     "data": {
      "image/png": "[encoded data removed]",
      "text/plain": [
       "<Figure size 432x288 with 1 Axes>"
      ]
     },
     "metadata": {
      "needs_background": "light"
     },
     "output_type": "display_data"
    }
   ],
   "source": [
    "df.plot(kind='scatter', x = 'Net Score', y = 'Number of Retweets')"
   ]
  }
 ],
 "metadata": {
  "kernelspec": {
   "display_name": "Python 3",
   "language": "python",
   "name": "python3"
  },
  "language_info": {
   "codemirror_mode": {
    "name": "ipython",
    "version": 3
   },
   "file_extension": ".py",
   "mimetype": "text/x-python",
   "name": "python",
   "nbconvert_exporter": "python",
   "pygments_lexer": "ipython3",
   "version": "3.7.6"
  }
 },
 "nbformat": 4,
 "nbformat_minor": 4
}
